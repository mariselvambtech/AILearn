{
 "cells": [
  {
   "cell_type": "code",
   "execution_count": 1,
   "id": "5f634d5c-650f-4be0-9176-582594a9656e",
   "metadata": {},
   "outputs": [
    {
     "name": "stdout",
     "output_type": "stream",
     "text": [
      "HOPE AI\n"
     ]
    }
   ],
   "source": [
    "#print statement\n",
    "print(\"HOPE AI\")"
   ]
  },
  {
   "cell_type": "code",
   "execution_count": 3,
   "id": "70ba9e5a-6977-4469-86be-e31faf117404",
   "metadata": {},
   "outputs": [
    {
     "name": "stdin",
     "output_type": "stream",
     "text": [
      "Enter your institute name? Hope AI\n"
     ]
    },
    {
     "data": {
      "text/plain": [
       "'Hope AI'"
      ]
     },
     "execution_count": 3,
     "metadata": {},
     "output_type": "execute_result"
    }
   ],
   "source": [
    "#Buy input\n",
    "input(\"Enter your institute name?\")"
   ]
  },
  {
   "cell_type": "code",
   "execution_count": 7,
   "id": "fb3b1b75-f595-4057-a692-19f03455fe66",
   "metadata": {},
   "outputs": [
    {
     "name": "stdin",
     "output_type": "stream",
     "text": [
      "Enter your name: raj\n",
      "Enter your age: 15\n",
      "Enter your school name: Guru School\n",
      "Enter your degree: BE CSE\n"
     ]
    },
    {
     "data": {
      "text/plain": [
       "'BE CSE'"
      ]
     },
     "execution_count": 7,
     "metadata": {},
     "output_type": "execute_result"
    }
   ],
   "source": [
    "#Buy inputs\n",
    "input(\"Enter your name:\")\n",
    "input(\"Enter your age:\")\n",
    "input(\"Enter your school name:\")\n",
    "input(\"Enter your degree:\")"
   ]
  },
  {
   "cell_type": "code",
   "execution_count": 21,
   "id": "728de19a-0daa-416a-ab73-e93e75e7b9c6",
   "metadata": {},
   "outputs": [
    {
     "name": "stdin",
     "output_type": "stream",
     "text": [
      "Enter a: 43\n",
      "Enter b: 34\n"
     ]
    },
    {
     "name": "stdout",
     "output_type": "stream",
     "text": [
      "a=43\n",
      "b=34\n",
      "add= 77\n"
     ]
    }
   ],
   "source": [
    "#Addition\n",
    "a= input(\"Enter a:\")\n",
    "b = input(\"Enter b:\")\n",
    "print(f\"a={a}\")\n",
    "print(f\"b={b}\")\n",
    "print(f\"add=\",int(a)+int(b))\n"
   ]
  },
  {
   "cell_type": "code",
   "execution_count": 29,
   "id": "d75992f0-1a96-4f8a-817f-9cdd01014177",
   "metadata": {},
   "outputs": [
    {
     "name": "stdout",
     "output_type": "stream",
     "text": [
      "a=43\n",
      "b=34\n",
      "Sub =9\n"
     ]
    }
   ],
   "source": [
    "#subtraction\n",
    "a= 43\n",
    "b= 34\n",
    "print(\"a=\"+str(a))\n",
    "print(\"b=\"+str(b))\n",
    "print(\"Sub =\"+str( int(a)-int(b)))"
   ]
  },
  {
   "cell_type": "code",
   "execution_count": 31,
   "id": "08a6f97d-e286-49ce-b4e8-12898359529d",
   "metadata": {},
   "outputs": [
    {
     "name": "stdout",
     "output_type": "stream",
     "text": [
      "a=63\n",
      "b=97\n",
      "Mul =6111\n"
     ]
    }
   ],
   "source": [
    "#Multiplication\n",
    "a= 63\n",
    "b= 97\n",
    "print(\"a=\"+str(a))\n",
    "print(\"b=\"+str(b))\n",
    "print(\"Mul =\"+str( int(a)*int(b)))"
   ]
  },
  {
   "cell_type": "code",
   "execution_count": 33,
   "id": "0b202f68-90c0-4363-87d9-82568a973301",
   "metadata": {},
   "outputs": [
    {
     "name": "stdout",
     "output_type": "stream",
     "text": [
      "a=76\n",
      "b=31\n",
      "Float Div =2.4516129032258065\n"
     ]
    }
   ],
   "source": [
    "#Division\n",
    "a= 76\n",
    "b= 31\n",
    "print(\"a=\"+str(a))\n",
    "print(\"b=\"+str(b))\n",
    "print(\"Float Div =\"+str( int(a)/int(b)))\n"
   ]
  },
  {
   "cell_type": "code",
   "execution_count": 39,
   "id": "d1e24520-1f24-4b2a-9f8e-865da62816e8",
   "metadata": {},
   "outputs": [
    {
     "name": "stdout",
     "output_type": "stream",
     "text": [
      "a=76\n",
      "b=31\n",
      "Floor Div =2\n"
     ]
    }
   ],
   "source": [
    "#Floor Division\n",
    "a= 76\n",
    "b= 31\n",
    "print(\"a=\"+str(a))\n",
    "print(\"b=\"+str(b))\n",
    "print(\"Floor Div =\"+str( int(a)//int(b)))"
   ]
  },
  {
   "cell_type": "code",
   "execution_count": 45,
   "id": "b138f32d-732b-4144-b895-e8ba72e7236c",
   "metadata": {},
   "outputs": [
    {
     "name": "stdout",
     "output_type": "stream",
     "text": [
      "a=76\n",
      "b=31\n",
      "Modulo =14\n"
     ]
    }
   ],
   "source": [
    "#Modulo\n",
    "a= 76\n",
    "b= 31\n",
    "print(\"a=\"+str(a))\n",
    "print(\"b=\"+str(b))\n",
    "print(\"Modulo =\"+str( int(a)%int(b)))"
   ]
  },
  {
   "cell_type": "code",
   "execution_count": 47,
   "id": "6585157c-c710-4970-a1db-6879e42e614f",
   "metadata": {},
   "outputs": [
    {
     "name": "stdout",
     "output_type": "stream",
     "text": [
      "a=4\n",
      "b=4\n",
      "power =256\n"
     ]
    }
   ],
   "source": [
    "#Power\n",
    "a= 4\n",
    "b= 4\n",
    "print(\"a=\"+str(a))\n",
    "print(\"b=\"+str(b))\n",
    "print(\"power =\"+str( pow(a,b)))"
   ]
  },
  {
   "cell_type": "code",
   "execution_count": null,
   "id": "ac743e5c-b19e-44e7-a346-548ae36306be",
   "metadata": {},
   "outputs": [],
   "source": []
  }
 ],
 "metadata": {
  "kernelspec": {
   "display_name": "Python [conda env:base] *",
   "language": "python",
   "name": "conda-base-py"
  },
  "language_info": {
   "codemirror_mode": {
    "name": "ipython",
    "version": 3
   },
   "file_extension": ".py",
   "mimetype": "text/x-python",
   "name": "python",
   "nbconvert_exporter": "python",
   "pygments_lexer": "ipython3",
   "version": "3.12.7"
  }
 },
 "nbformat": 4,
 "nbformat_minor": 5
}
