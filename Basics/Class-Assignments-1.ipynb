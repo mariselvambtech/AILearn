{
 "cells": [
  {
   "cell_type": "code",
   "execution_count": null,
   "id": "65bb07de-e4fe-438d-a087-a2867a097e59",
   "metadata": {},
   "outputs": [],
   "source": [
    "# Create a class and function, and list out the items in the list"
   ]
  },
  {
   "cell_type": "code",
   "execution_count": 93,
   "id": "62b32511-efd7-4f7b-838f-c19c9fe6f584",
   "metadata": {},
   "outputs": [
    {
     "name": "stdout",
     "output_type": "stream",
     "text": [
      "Sub-fields in AI are:\n",
      "Machine Learning\n",
      "Neural Networks\n",
      "Vision\n",
      "Robotics\n",
      "Speech Processing\n",
      "Natural Language Processing\n"
     ]
    }
   ],
   "source": [
    "\n",
    "class SubfieldsInAI():\n",
    "    \n",
    "    def Subfields(self):  \n",
    "        subfields = [\"Machine Learning\",\n",
    "\"Neural Networks\",\n",
    "\"Vision\",\n",
    "\"Robotics\",\n",
    "\"Speech Processing\",\n",
    "\"Natural Language Processing\"]\n",
    "        print(\"Sub-fields in AI are:\")\n",
    "        for fields in subfields:\n",
    "            print(fields)\n",
    "\n",
    "\n",
    "SubfieldsInAI().Subfields()\n",
    "        "
   ]
  },
  {
   "cell_type": "code",
   "execution_count": 95,
   "id": "fcc436a2-48a9-442a-85aa-70672c88540a",
   "metadata": {},
   "outputs": [],
   "source": [
    "# Create a function that checks whether the given number is Odd or Even"
   ]
  },
  {
   "cell_type": "code",
   "execution_count": 103,
   "id": "2c2fe703-091e-4851-9d44-b23813d0392a",
   "metadata": {},
   "outputs": [
    {
     "name": "stdin",
     "output_type": "stream",
     "text": [
      "Enter a number 52452\n"
     ]
    },
    {
     "name": "stdout",
     "output_type": "stream",
     "text": [
      "52452 is Even number\n"
     ]
    }
   ],
   "source": [
    "class OddEven:\n",
    "    def OddEven(self):\n",
    "        num = int(input(\"Enter a number\"))\n",
    "        if(num%2==0):\n",
    "            print(str(num)+ \" is Even number\")\n",
    "        else:\n",
    "            print(str(num)+ \" is Odd number\")\n",
    "\n",
    "\n",
    "OddEven().OddEven()\n",
    "        "
   ]
  },
  {
   "cell_type": "code",
   "execution_count": 119,
   "id": "6c1531fe-69c2-4760-bf52-0958db1c6457",
   "metadata": {},
   "outputs": [
    {
     "name": "stdin",
     "output_type": "stream",
     "text": [
      "Enter Gender: Male\n",
      "Enter age: 12\n"
     ]
    },
    {
     "name": "stdout",
     "output_type": "stream",
     "text": [
      "Not eligible for marriage.\n"
     ]
    }
   ],
   "source": [
    "# Create a function that tells elegibility of marriage for male and female according to their age limit like 21 for male and 18 for female\n",
    "class ElegiblityForMarriage:\n",
    "    def Elegible(self,gender,age):\n",
    "        if(gender.lower() ==\"male\"):\n",
    "            if int(age) >= 21:\n",
    "                print(\"Eligible for marriage.\")\n",
    "            else:\n",
    "                print(\"Not eligible for marriage.\")\n",
    "        elif gender.lower() == \"female\":\n",
    "            if int(age) >= 18:\n",
    "                print(\"Eligible for marriage.\")\n",
    "            else:\n",
    "                print(\"Not eligible for marriage.\")\n",
    "\n",
    "gender = input(\"Enter Gender:\")\n",
    "age = input(\"Enter age:\")\n",
    "ElegiblityForMarriage().Elegible(gender,age)"
   ]
  },
  {
   "cell_type": "code",
   "execution_count": 121,
   "id": "18161558-e18f-4e80-8a0f-fed2e0d058d7",
   "metadata": {},
   "outputs": [],
   "source": [
    "# calculate the percentage of your 10th mark"
   ]
  },
  {
   "cell_type": "code",
   "execution_count": 123,
   "id": "17c37d37-8656-40f8-bb6f-1b60de5e5bf8",
   "metadata": {},
   "outputs": [
    {
     "name": "stdout",
     "output_type": "stream",
     "text": [
      "Percentage 93.60000000000001\n"
     ]
    }
   ],
   "source": [
    "class FindPercent:\n",
    "    def percentage(self,sub1,sub2,sub3,sub4,sub5):\n",
    "        total_marks  = sub1+sub2+sub3+sub4+sub5\n",
    "        percent = (total_marks/500)*100\n",
    "        print(\"Percentage \"+str(percent))\n",
    "\n",
    "\n",
    "FindPercent().percentage(98,87,95,95,93)"
   ]
  },
  {
   "cell_type": "code",
   "execution_count": 125,
   "id": "ec01f8d6-7b17-4a7b-949f-f23455980356",
   "metadata": {},
   "outputs": [],
   "source": [
    "#print area and perimeter of triangle using class and functions"
   ]
  },
  {
   "cell_type": "code",
   "execution_count": 135,
   "id": "7624adb0-f22e-45fc-af8a-9545db30f0fe",
   "metadata": {},
   "outputs": [
    {
     "name": "stdout",
     "output_type": "stream",
     "text": [
      "Area of triangle 544.0\n",
      "perimter of triangle 8\n"
     ]
    }
   ],
   "source": [
    "class Triangle:\n",
    "    def trianglearea(self,height,breadth):\n",
    "\n",
    "        area = (height*breadth)/2\n",
    "        print(\"Area of triangle \"+str(area))\n",
    "    def triangeperimeter(self,height1,height2,breadth):\n",
    "\n",
    "        perimiter = height1+height2+breadth\n",
    "        print(\"perimter of triangle \"+str(perimiter))\n",
    "\n",
    "tri = Triangle()\n",
    "tri.trianglearea(32,34)\n",
    "tri.triangeperimeter(2,2,4)"
   ]
  },
  {
   "cell_type": "code",
   "execution_count": null,
   "id": "1d86e2d0-bd3f-4fe2-8118-d499ab98e774",
   "metadata": {},
   "outputs": [],
   "source": []
  }
 ],
 "metadata": {
  "kernelspec": {
   "display_name": "Python [conda env:base] *",
   "language": "python",
   "name": "conda-base-py"
  },
  "language_info": {
   "codemirror_mode": {
    "name": "ipython",
    "version": 3
   },
   "file_extension": ".py",
   "mimetype": "text/x-python",
   "name": "python",
   "nbconvert_exporter": "python",
   "pygments_lexer": "ipython3",
   "version": "3.12.7"
  }
 },
 "nbformat": 4,
 "nbformat_minor": 5
}
