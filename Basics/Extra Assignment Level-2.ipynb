{
 "cells": [
  {
   "cell_type": "code",
   "execution_count": 3,
   "id": "520d5202-10a6-4fc3-939d-1e73931917f3",
   "metadata": {},
   "outputs": [
    {
     "name": "stdout",
     "output_type": "stream",
     "text": [
      "0\n",
      "1\n",
      "2\n",
      "3\n",
      "4\n",
      "5\n",
      "6\n",
      "7\n",
      "8\n",
      "9\n",
      "10\n",
      "11\n",
      "12\n",
      "13\n",
      "14\n",
      "15\n",
      "16\n",
      "17\n",
      "18\n",
      "19\n"
     ]
    }
   ],
   "source": [
    "# print 0 to 20 by using range\n",
    "for i in range(20):\n",
    "    print(i)"
   ]
  },
  {
   "cell_type": "code",
   "execution_count": 7,
   "id": "c0b2583c-9ac0-41de-bfef-bf122449dff2",
   "metadata": {},
   "outputs": [
    {
     "name": "stdout",
     "output_type": "stream",
     "text": [
      "10 11 12 13 14 15 16 17 18 19 "
     ]
    }
   ],
   "source": [
    "# print range 10 to 20\n",
    "for i in range(10,20):\n",
    "    print(i,end=\" \")"
   ]
  },
  {
   "cell_type": "code",
   "execution_count": 9,
   "id": "cd832eb5-11ae-4220-bc21-76c1d223453d",
   "metadata": {},
   "outputs": [
    {
     "name": "stdout",
     "output_type": "stream",
     "text": [
      "Number of item in the List2:\n",
      "7\n"
     ]
    }
   ],
   "source": [
    "# Print number of items in the list by using 'len'\n",
    "List2 = [10, 20, 14, 55, 43, 87, 76]\n",
    "print(\"Number of item in the List2:\")\n",
    "print(len(List2))"
   ]
  },
  {
   "cell_type": "code",
   "execution_count": 19,
   "id": "0d019f4f-4d7e-466b-b003-38769f346a89",
   "metadata": {},
   "outputs": [
    {
     "name": "stdout",
     "output_type": "stream",
     "text": [
      "Artificial Intelligence\n",
      "A\n",
      "r\n",
      "t\n",
      "i\n",
      "f\n",
      "i\n",
      "c\n",
      "i\n",
      "a\n",
      "l\n",
      " \n",
      "I\n",
      "n\n",
      "t\n",
      "e\n",
      "l\n",
      "l\n",
      "i\n",
      "g\n",
      "e\n",
      "n\n",
      "c\n",
      "e\n"
     ]
    }
   ],
   "source": [
    "x = \"Artificial Intelligence\"\n",
    "print(x)\n",
    "for i in range(len(x)):\n",
    "    print(x[i])"
   ]
  },
  {
   "cell_type": "code",
   "execution_count": 21,
   "id": "ea0cc6e6-a2cb-48ac-b295-af203b3cb8c7",
   "metadata": {},
   "outputs": [
    {
     "name": "stdout",
     "output_type": "stream",
     "text": [
      "Mari selvam\n",
      "39\n",
      "IT Professional\n"
     ]
    }
   ],
   "source": [
    "print(\"Mari selvam\")\n",
    "print(39)\n",
    "print(\"IT Professional\")"
   ]
  },
  {
   "cell_type": "code",
   "execution_count": 23,
   "id": "c60fb121-f5ac-433b-8c37-20d9d13e3745",
   "metadata": {},
   "outputs": [
    {
     "name": "stdout",
     "output_type": "stream",
     "text": [
      "(1, 'Welcome', 2, 'Hope')\n"
     ]
    }
   ],
   "source": [
    "mixed_tup = (1, 'Welcome', 2, 'Hope')\n",
    "print(mixed_tup)"
   ]
  },
  {
   "cell_type": "code",
   "execution_count": 25,
   "id": "b8570bf5-3657-44a4-8294-dc81dbad1187",
   "metadata": {},
   "outputs": [
    {
     "name": "stdout",
     "output_type": "stream",
     "text": [
      "((0, 1, 2, 3), ('python', 'HOPE'))\n"
     ]
    }
   ],
   "source": [
    "Tuple1 = (0,1,2,3)\n",
    "Tuple2 = ('python', 'HOPE')\n",
    "Tuple3= (Tuple1,Tuple2)\n",
    "print(Tuple3)"
   ]
  },
  {
   "cell_type": "code",
   "execution_count": 35,
   "id": "f864d2d6-2583-4ce0-bbfc-8a10f7da25a3",
   "metadata": {},
   "outputs": [
    {
     "name": "stdout",
     "output_type": "stream",
     "text": [
      "19 is odd\n",
      "25 is odd\n",
      "1 is odd\n"
     ]
    }
   ],
   "source": [
    "# print Odd Numbers in the list\n",
    "numbers = (20,10,16,19,25,1,276,188)\n",
    "for i in range(len(numbers)):\n",
    "    if(numbers[i]%2!=0):\n",
    "        print(str(numbers[i])+\" is odd\")"
   ]
  },
  {
   "cell_type": "code",
   "execution_count": 37,
   "id": "36024978-eb83-4e7b-841c-fdc79d791ab0",
   "metadata": {},
   "outputs": [
    {
     "name": "stdout",
     "output_type": "stream",
     "text": [
      "20 is even\n",
      "10 is even\n",
      "16 is even\n",
      "276 is even\n",
      "188 is even\n"
     ]
    }
   ],
   "source": [
    "# print Even numbers in the list\n",
    "numbers = (20,10,16,19,25,1,276,188)\n",
    "for i in range(len(numbers)):\n",
    "    if(numbers[i]%2==0):\n",
    "        print(str(numbers[i])+\" is even\")"
   ]
  },
  {
   "cell_type": "code",
   "execution_count": null,
   "id": "bdad7584-cbee-4848-9476-7b9cde9817d6",
   "metadata": {},
   "outputs": [],
   "source": []
  }
 ],
 "metadata": {
  "kernelspec": {
   "display_name": "Python [conda env:base] *",
   "language": "python",
   "name": "conda-base-py"
  },
  "language_info": {
   "codemirror_mode": {
    "name": "ipython",
    "version": 3
   },
   "file_extension": ".py",
   "mimetype": "text/x-python",
   "name": "python",
   "nbconvert_exporter": "python",
   "pygments_lexer": "ipython3",
   "version": "3.12.7"
  }
 },
 "nbformat": 4,
 "nbformat_minor": 5
}
