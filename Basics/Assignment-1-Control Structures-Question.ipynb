{
 "cells": [
  {
   "cell_type": "code",
   "execution_count": 1,
   "id": "00d94f9b-f450-4a72-99a9-a9d04dc52f66",
   "metadata": {},
   "outputs": [],
   "source": [
    "#Assignment 1 - Control sturctures"
   ]
  },
  {
   "cell_type": "code",
   "execution_count": 5,
   "id": "c3ffb929-4f78-45c7-b102-710a027a5bc9",
   "metadata": {},
   "outputs": [
    {
     "name": "stdout",
     "output_type": "stream",
     "text": [
      "Welcome to Assignment-1\n"
     ]
    }
   ],
   "source": [
    "#using print statement\n",
    "print(\"Welcome to Assignment-1\")"
   ]
  },
  {
   "cell_type": "code",
   "execution_count": 19,
   "id": "2a4879e8-906b-4187-8324-74a8da646a11",
   "metadata": {},
   "outputs": [
    {
     "name": "stdout",
     "output_type": "stream",
     "text": [
      "Num1=10\n",
      "Num2=30\n",
      "Add =40\n"
     ]
    }
   ],
   "source": [
    "#addition\n",
    "Num1=10\n",
    "Num2=30\n",
    "print(\"Num1=\"+str(Num1))\n",
    "print(\"Num2=\"+str(Num2))\n",
    "print(\"Add =\"+str(Num1+Num2))"
   ]
  },
  {
   "cell_type": "code",
   "execution_count": 21,
   "id": "abfb9726-ce74-49e7-b8f1-96929c3a7bbc",
   "metadata": {},
   "outputs": [],
   "source": [
    "#Body Mass Index"
   ]
  },
  {
   "cell_type": "code",
   "execution_count": 33,
   "id": "7e957f9b-1a39-476d-8b4f-3b406035a23c",
   "metadata": {},
   "outputs": [
    {
     "name": "stdin",
     "output_type": "stream",
     "text": [
      "Enter the BMI index 34\n"
     ]
    },
    {
     "name": "stdout",
     "output_type": "stream",
     "text": [
      "Mild Obesity\n"
     ]
    }
   ],
   "source": [
    "index = int(input(\"Enter the BMI index\"))\n",
    "if(index < 18.5):\n",
    "    print(\"Underweight\")\n",
    "elif(index >= 18.5 and index <=24.9):\n",
    "    print(\"Normal\")\n",
    "elif(index >= 25 and index <=29.9):\n",
    "    print(\"Overweight\")\n",
    "elif(index >= 30 and index <=34.9):\n",
    "    print(\"Mild Obesity\")\n",
    "elif(index >= 35 and index <=39.9):\n",
    "    print(\"Moderate Obesity\")\n",
    "else:\n",
    "    \n",
    "    print(\"Morbid Obesity\")\n",
    "\n",
    "    "
   ]
  },
  {
   "cell_type": "code",
   "execution_count": null,
   "id": "f03ebca5-2d95-4a09-9899-243d446b0286",
   "metadata": {},
   "outputs": [],
   "source": []
  }
 ],
 "metadata": {
  "kernelspec": {
   "display_name": "Python [conda env:base] *",
   "language": "python",
   "name": "conda-base-py"
  },
  "language_info": {
   "codemirror_mode": {
    "name": "ipython",
    "version": 3
   },
   "file_extension": ".py",
   "mimetype": "text/x-python",
   "name": "python",
   "nbconvert_exporter": "python",
   "pygments_lexer": "ipython3",
   "version": "3.12.7"
  }
 },
 "nbformat": 4,
 "nbformat_minor": 5
}
