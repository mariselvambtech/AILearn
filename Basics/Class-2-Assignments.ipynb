{
 "cells": [
  {
   "cell_type": "code",
   "execution_count": 9,
   "id": "da7638fc-59fe-4498-82bb-d569359fdb86",
   "metadata": {},
   "outputs": [
    {
     "name": "stdout",
     "output_type": "stream",
     "text": [
      "Sub-fields in AI are:\n",
      "Machine Learning\n",
      "Neural Networks\n",
      "Vision\n",
      "Robotics\n",
      "Speech Processing\n",
      "Natural Language Processing\n",
      "**************************************\n"
     ]
    }
   ],
   "source": [
    "from multipleFunctions import consolidated\n",
    "\n",
    "#subfields in AI\n",
    "mul_fn= consolidated()\n",
    "mul_fn.Subfields()\n",
    "print(\"**************************************\")\n",
    "\n",
    "    "
   ]
  },
  {
   "cell_type": "code",
   "execution_count": 11,
   "id": "2d9e9e87-a2f1-478a-9a4c-9d3ec2b4cc14",
   "metadata": {},
   "outputs": [
    {
     "name": "stdin",
     "output_type": "stream",
     "text": [
      "Enter a number 23\n"
     ]
    },
    {
     "name": "stdout",
     "output_type": "stream",
     "text": [
      "23 is Odd number\n",
      "**************************************\n"
     ]
    }
   ],
   "source": [
    "#odd or even\n",
    "mul_fn.OddEven()\n",
    "print(\"**************************************\")\n",
    "\n"
   ]
  },
  {
   "cell_type": "code",
   "execution_count": 17,
   "id": "994517ab-49a5-4688-ad1b-9dbde29c473e",
   "metadata": {},
   "outputs": [
    {
     "name": "stdin",
     "output_type": "stream",
     "text": [
      "Enter Gender: female\n",
      "Enter age: 22\n"
     ]
    },
    {
     "name": "stdout",
     "output_type": "stream",
     "text": [
      "Eligible for marriage.\n"
     ]
    }
   ],
   "source": [
    "gender = input(\"Enter Gender:\")\n",
    "age = input(\"Enter age:\")\n",
    "mul_fn.Elegible(gender,age)"
   ]
  },
  {
   "cell_type": "code",
   "execution_count": 19,
   "id": "cf51c5fe-1a91-405a-8977-91c882596c3f",
   "metadata": {},
   "outputs": [
    {
     "name": "stdout",
     "output_type": "stream",
     "text": [
      "Percentage 93.60000000000001\n"
     ]
    }
   ],
   "source": [
    "mul_fn.percentage(98,87,95,95,93)"
   ]
  },
  {
   "cell_type": "code",
   "execution_count": 21,
   "id": "5c6d3a0b-11fc-4848-84dc-df1d4c8d0779",
   "metadata": {},
   "outputs": [
    {
     "name": "stdout",
     "output_type": "stream",
     "text": [
      "Area of triangle 544.0\n",
      "perimter of triangle 8\n"
     ]
    }
   ],
   "source": [
    "mul_fn.trianglearea(32,34)\n",
    "mul_fn.triangeperimeter(2,2,4)"
   ]
  },
  {
   "cell_type": "code",
   "execution_count": null,
   "id": "0babfe42-ccbe-411a-9f12-3d69583c0c9c",
   "metadata": {},
   "outputs": [],
   "source": []
  }
 ],
 "metadata": {
  "kernelspec": {
   "display_name": "Python [conda env:base] *",
   "language": "python",
   "name": "conda-base-py"
  },
  "language_info": {
   "codemirror_mode": {
    "name": "ipython",
    "version": 3
   },
   "file_extension": ".py",
   "mimetype": "text/x-python",
   "name": "python",
   "nbconvert_exporter": "python",
   "pygments_lexer": "ipython3",
   "version": "3.12.7"
  }
 },
 "nbformat": 4,
 "nbformat_minor": 5
}
