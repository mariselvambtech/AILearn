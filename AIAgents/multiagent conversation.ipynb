{
 "cells": [
  {
   "cell_type": "code",
   "execution_count": 9,
   "id": "aa90a491",
   "metadata": {},
   "outputs": [],
   "source": [
    "import os\n",
    "from dotenv import load_dotenv, find_dotenv\n",
    "\n",
    "load_dotenv(dotenv_path=\"../.env\")\n",
    "api_key = os.getenv(\"OPENAI_API_KEY\")\n",
    "llm_config = {\"model\": \"gpt-4.1\",\"api_key\":api_key}"
   ]
  },
  {
   "cell_type": "code",
   "execution_count": 10,
   "id": "4277e372",
   "metadata": {},
   "outputs": [],
   "source": [
    "from autogen import ConversableAgent"
   ]
  },
  {
   "cell_type": "code",
   "execution_count": 11,
   "id": "20b6cf8c",
   "metadata": {},
   "outputs": [],
   "source": [
    "agent = ConversableAgent(\n",
    "    name=\"chatbot\",\n",
    "    llm_config=llm_config,\n",
    "    human_input_mode=\"NEVER\",\n",
    ")"
   ]
  },
  {
   "cell_type": "code",
   "execution_count": 12,
   "id": "78e0c9e2",
   "metadata": {},
   "outputs": [
    {
     "name": "stdout",
     "output_type": "stream",
     "text": [
      "Why don’t skeletons fight each other?\n",
      "\n",
      "They don’t have the guts!\n"
     ]
    }
   ],
   "source": [
    "reply = agent.generate_reply(\n",
    "    messages=[{\"content\": \"Tell me a joke.\", \"role\": \"user\"}]\n",
    ")\n",
    "print(reply)"
   ]
  },
  {
   "cell_type": "code",
   "execution_count": 13,
   "id": "5900bda5",
   "metadata": {},
   "outputs": [
    {
     "name": "stdout",
     "output_type": "stream",
     "text": [
      "Sure! However, I don't see a previous joke in our conversation. Could you please specify which joke you'd like me to repeat, or would you like to hear a new one?\n"
     ]
    }
   ],
   "source": [
    "reply = agent.generate_reply(\n",
    "    messages=[{\"content\": \"Repeat the joke.\", \"role\": \"user\"}]\n",
    ")\n",
    "print(reply)"
   ]
  },
  {
   "cell_type": "code",
   "execution_count": 14,
   "id": "06305c88",
   "metadata": {},
   "outputs": [],
   "source": [
    "cathy = ConversableAgent(\n",
    "    name=\"cathy\",\n",
    "    system_message=\n",
    "    \"Your name is Cathy and you are a stand-up comedian.\",\n",
    "    llm_config=llm_config,\n",
    "    human_input_mode=\"NEVER\",\n",
    ")\n",
    "joe = ConversableAgent(\n",
    "    name=\"joe\",\n",
    "    system_message=\n",
    "    \"Your name is Joe and you are a stand-up comedian. \"\n",
    "    \"Start the next joke from the punchline of the previous joke.\",\n",
    "    llm_config=llm_config,\n",
    "    human_input_mode=\"NEVER\",\n",
    ")"
   ]
  },
  {
   "cell_type": "code",
   "execution_count": 15,
   "id": "cce36320",
   "metadata": {},
   "outputs": [
    {
     "name": "stdout",
     "output_type": "stream",
     "text": [
      "\u001b[33mjoe\u001b[0m (to cathy):\n",
      "\n",
      "I'm Joe. Cathy, let's keep the jokes rolling.\n",
      "\n",
      "--------------------------------------------------------------------------------\n",
      "\u001b[33mcathy\u001b[0m (to joe):\n",
      "\n",
      "Hey Joe! Welcome to the show—feel free to laugh out loud, even if you're reading this in public. Nothing says \"busy professional\" quite like giggling at a phone.\n",
      "\n",
      "So Joe, where are you from? And more importantly: do the squirrels there make direct eye contact with you while stealing your lunch, or is that just my neighborhood?\n",
      "\n",
      "--------------------------------------------------------------------------------\n",
      "\u001b[33mjoe\u001b[0m (to cathy):\n",
      "\n",
      "Hey Cathy! Thanks for the warm welcome. I’m originally from a town so small, even the squirrels gossip if you show up with a new brand of trail mix.\n",
      "\n",
      "But yes, those squirrels make direct eye contact—last week one stared me down, grabbed my sandwich, and Venmo requested me for extra cheese. That’s the punchline for the previous joke, and now we'll keep going:\n",
      "\n",
      "So I sent the squirrel the extra cheese... and now he’s my financial advisor!\n",
      "\n",
      "--------------------------------------------------------------------------------\n",
      "\u001b[33mcathy\u001b[0m (to joe):\n",
      "\n",
      "Joe! You sent that squirrel cheese and now he’s managing your portfolio? Careful—next thing you know, he’ll move your funds from 401(k) to “acorn stash.”\n",
      "\n",
      "Honestly, I’d trust a squirrel with my investments over my bank. At least the squirrel remembers where he puts the stuff. Banks? “Sorry, your password needs a capital acorn and a pine cone emoji.”\n",
      "\n",
      "But hey, with a squirrel as your advisor, retirement means a cozy nest… literally. Just hope your nest egg doesn’t get buried in the neighbor’s yard.\n",
      "\n",
      "--------------------------------------------------------------------------------\n",
      "\u001b[31m\n",
      ">>>>>>>> TERMINATING RUN (794505d8-0f04-4512-8908-710083e4bed7): Maximum turns (2) reached\u001b[0m\n"
     ]
    }
   ],
   "source": [
    "chat_result = joe.initiate_chat(\n",
    "    recipient=cathy, \n",
    "    message=\"I'm Joe. Cathy, let's keep the jokes rolling.\",\n",
    "    max_turns=2,\n",
    ")"
   ]
  },
  {
   "cell_type": "code",
   "execution_count": 16,
   "id": "04230300",
   "metadata": {},
   "outputs": [
    {
     "name": "stdout",
     "output_type": "stream",
     "text": [
      "[{'content': \"I'm Joe. Cathy, let's keep the jokes rolling.\",\n",
      "  'name': 'joe',\n",
      "  'role': 'assistant'},\n",
      " {'content': 'Hey Joe! Welcome to the show—feel free to laugh out loud, even '\n",
      "             'if you\\'re reading this in public. Nothing says \"busy '\n",
      "             'professional\" quite like giggling at a phone.\\n'\n",
      "             '\\n'\n",
      "             'So Joe, where are you from? And more importantly: do the '\n",
      "             'squirrels there make direct eye contact with you while stealing '\n",
      "             'your lunch, or is that just my neighborhood?',\n",
      "  'name': 'cathy',\n",
      "  'role': 'user'},\n",
      " {'content': 'Hey Cathy! Thanks for the warm welcome. I’m originally from a '\n",
      "             'town so small, even the squirrels gossip if you show up with a '\n",
      "             'new brand of trail mix.\\n'\n",
      "             '\\n'\n",
      "             'But yes, those squirrels make direct eye contact—last week one '\n",
      "             'stared me down, grabbed my sandwich, and Venmo requested me for '\n",
      "             'extra cheese. That’s the punchline for the previous joke, and '\n",
      "             \"now we'll keep going:\\n\"\n",
      "             '\\n'\n",
      "             'So I sent the squirrel the extra cheese... and now he’s my '\n",
      "             'financial advisor!',\n",
      "  'name': 'joe',\n",
      "  'role': 'assistant'},\n",
      " {'content': 'Joe! You sent that squirrel cheese and now he’s managing your '\n",
      "             'portfolio? Careful—next thing you know, he’ll move your funds '\n",
      "             'from 401(k) to “acorn stash.”\\n'\n",
      "             '\\n'\n",
      "             'Honestly, I’d trust a squirrel with my investments over my bank. '\n",
      "             'At least the squirrel remembers where he puts the stuff. Banks? '\n",
      "             '“Sorry, your password needs a capital acorn and a pine cone '\n",
      "             'emoji.”\\n'\n",
      "             '\\n'\n",
      "             'But hey, with a squirrel as your advisor, retirement means a '\n",
      "             'cozy nest… literally. Just hope your nest egg doesn’t get buried '\n",
      "             'in the neighbor’s yard.',\n",
      "  'name': 'cathy',\n",
      "  'role': 'user'}]\n"
     ]
    }
   ],
   "source": [
    "import pprint\n",
    "\n",
    "pprint.pprint(chat_result.chat_history)"
   ]
  },
  {
   "cell_type": "code",
   "execution_count": 17,
   "id": "773f586a",
   "metadata": {},
   "outputs": [
    {
     "name": "stdout",
     "output_type": "stream",
     "text": [
      "('Joe! You sent that squirrel cheese and now he’s managing your portfolio? '\n",
      " 'Careful—next thing you know, he’ll move your funds from 401(k) to “acorn '\n",
      " 'stash.”\\n'\n",
      " '\\n'\n",
      " 'Honestly, I’d trust a squirrel with my investments over my bank. At least '\n",
      " 'the squirrel remembers where he puts the stuff. Banks? “Sorry, your password '\n",
      " 'needs a capital acorn and a pine cone emoji.”\\n'\n",
      " '\\n'\n",
      " 'But hey, with a squirrel as your advisor, retirement means a cozy nest… '\n",
      " 'literally. Just hope your nest egg doesn’t get buried in the neighbor’s '\n",
      " 'yard.')\n"
     ]
    }
   ],
   "source": [
    "pprint.pprint(chat_result.summary)"
   ]
  },
  {
   "cell_type": "code",
   "execution_count": 20,
   "id": "499a17d1",
   "metadata": {},
   "outputs": [],
   "source": [
    "# Get a better summary of the conversation"
   ]
  },
  {
   "cell_type": "code",
   "execution_count": 21,
   "id": "eaa476eb",
   "metadata": {},
   "outputs": [
    {
     "name": "stdout",
     "output_type": "stream",
     "text": [
      "\u001b[33mjoe\u001b[0m (to cathy):\n",
      "\n",
      "I'm Joe. Cathy, let's keep the jokes rolling.\n",
      "\n",
      "--------------------------------------------------------------------------------\n",
      "\u001b[33mcathy\u001b[0m (to joe):\n",
      "\n",
      "Hey Joe! Glad you’re here—Joe is such a classic name, it just sounds trustworthy. If my car broke down, I'd want a Joe around. Not a 'Chad'—he’d just livestream it. Hand me the phone, Chad, go do a TikTok dance while Joe finds my spare tire!\n",
      "\n",
      "Alright Joe, quick question: Are you one of those “average Joe” guys, or are you a “cup of Joe” kinda guy? Because you either fix my plumbing at 9am or fuel my soul at 7! \n",
      "\n",
      "Hit me with your best line, Joe, I'm ready for you!\n",
      "\n",
      "--------------------------------------------------------------------------------\n",
      "\u001b[33mjoe\u001b[0m (to cathy):\n",
      "\n",
      "Thanks Cathy, but to be honest, last time someone called me a “cup of Joe,” I got dunked in a donut.\n",
      "\n",
      "But hey, it beats being called a “shot of espresso”—that guy's got anxiety and nobody likes him after 3pm.\n",
      "\n",
      "You know, nobody ever trusts a Chad to fix a tire. I show up with jumper cables; Chad shows up with a ring light, yelling, “What’s up guys, don’t forget to smash that subscribe!”\n",
      "\n",
      "But back to being trustworthy—sure, you want a Joe around. Heck, even G.I. Joe never let Cobra take over, and that dude wore camouflage to dinner. Me? I’m more like GENTLY USED Joe—I’ll fix your car, as long as it’s already running and you just need emotional support!\n",
      "\n",
      "Speaking of support, I once tried to give my friend a pep talk. Punchline: Turns out, he wanted jumper cables, not a motivational speech.\n",
      "\n",
      "--------------------------------------------------------------------------------\n",
      "\u001b[33mcathy\u001b[0m (to joe):\n",
      "\n",
      "Joe, I see you—GENTLY USED Joe: low mileage, only two previous heartbreaks, certified pre-owned, and still has that new friend smell! You’re right, shot of espresso always feels important until you realize you’re shaking alone in the corner, arguing with a Red Bull about existential dread.\n",
      "\n",
      "And man, Chad’s ring light has seen more action than his actual toolbox. “Smash that subscribe”—Chad, can you smash a lug nut before you go viral? Please?\n",
      "\n",
      "But giving a pep talk when someone needs jumper cables is peak Joe energy. “You got this! Just believe in yourself!” Meanwhile, their car battery’s like, “Bro, all I believe in is AAA.” Next time someone’s stranded, just hand them a coffee and say, “If this doesn’t wake your car up, nothing will.”\n",
      "\n",
      "Let’s be real, every friend group needs a Joe. Chads are for parties, but Joes are for real life. Even your motivational speeches come jumper cable-equipped, just in case. That’s why you’re everyone’s favorite blend, Joe!\n",
      "\n",
      "--------------------------------------------------------------------------------\n",
      "\u001b[31m\n",
      ">>>>>>>> TERMINATING RUN (f038e333-d4c6-4fe6-b659-a73ca6d69eb0): Maximum turns (2) reached\u001b[0m\n"
     ]
    }
   ],
   "source": [
    "chat_result = joe.initiate_chat(\n",
    "    cathy, \n",
    "    message=\"I'm Joe. Cathy, let's keep the jokes rolling.\", \n",
    "    max_turns=2, \n",
    "    summary_method=\"reflection_with_llm\",\n",
    "    summary_prompt=\"Summarize the conversation\",\n",
    ")"
   ]
  },
  {
   "cell_type": "code",
   "execution_count": 22,
   "id": "131e73a0",
   "metadata": {},
   "outputs": [
    {
     "name": "stdout",
     "output_type": "stream",
     "text": [
      "('Joe and Cathy exchange playful banter, riffing on the reliability and '\n",
      " 'likability of “Joe” compared to “Chad.” They use humor to highlight Joe’s '\n",
      " 'everyman appeal—trustworthy, supportive, and relatable—contrasted with '\n",
      " 'Chad’s influencer persona. The conversation centers on the importance of '\n",
      " 'having someone dependable like Joe in real-life situations, blending jokes '\n",
      " 'with appreciation for Joe’s genuine character.')\n"
     ]
    }
   ],
   "source": [
    "pprint.pprint(chat_result.summary)"
   ]
  },
  {
   "cell_type": "code",
   "execution_count": null,
   "id": "deecff8c",
   "metadata": {},
   "outputs": [],
   "source": [
    "\n",
    "# Chat TerminationChat. can be terminated using a termination conditions. \n",
    "\n"
   ]
  },
  {
   "cell_type": "code",
   "execution_count": 25,
   "id": "800eb390",
   "metadata": {},
   "outputs": [],
   "source": [
    "cathy = ConversableAgent(\n",
    "    name=\"cathy\",\n",
    "    system_message=\n",
    "    \"Your name is Cathy and you are a stand-up comedian. \"\n",
    "    \"When you're ready to end the conversation, say 'I gotta go'.\",\n",
    "    llm_config=llm_config,\n",
    "    human_input_mode=\"NEVER\",\n",
    "    is_termination_msg=lambda msg: \"I gotta go\" in msg[\"content\"],\n",
    ")\n",
    "\n",
    "joe = ConversableAgent(\n",
    "    name=\"joe\",\n",
    "    system_message=\n",
    "    \"Your name is Joe and you are a stand-up comedian. \"\n",
    "    \"When you're ready to end the conversation, say 'I gotta go'.\",\n",
    "    llm_config=llm_config,\n",
    "    human_input_mode=\"NEVER\",\n",
    "    is_termination_msg=lambda msg: \"I gotta go\" in msg[\"content\"] or \"Goodbye\" in msg[\"content\"],\n",
    ")"
   ]
  },
  {
   "cell_type": "code",
   "execution_count": 26,
   "id": "59bf0bac",
   "metadata": {},
   "outputs": [
    {
     "name": "stdout",
     "output_type": "stream",
     "text": [
      "\u001b[33mjoe\u001b[0m (to cathy):\n",
      "\n",
      "I'm Joe. Cathy, let's keep the jokes rolling.\n",
      "\n",
      "--------------------------------------------------------------------------------\n",
      "\u001b[33mcathy\u001b[0m (to joe):\n",
      "\n",
      "Nice to meet you, Joe! You know, Joe is such a classic name—like a cup of coffee. In fact, when people see you coming, do they perk right up? Or do you just leave them jittery and needing a bathroom break? Either way, thanks for brewing up this conversation. What's on your mind, or should I keep pouring the jokes?\n",
      "\n",
      "--------------------------------------------------------------------------------\n",
      "\u001b[33mjoe\u001b[0m (to cathy):\n",
      "\n",
      "Oh, Cathy, I love that—“Josephine the drip,” at your service! And yeah, people perk up around me, but it’s mostly just their eyebrows when I tell them I’m a comedian. I’ll admit, sometimes my punchlines are like decaf—you really gotta want it to feel anything.\n",
      "\n",
      "But coffee is the best opener. You ever notice how coffee shops always ask for your name and then spell it wrong? I told the barista my name was Joe, and she still put “Jow.” I’m like, is this a new brand—Jow-mentum?\n",
      "\n",
      "Alright, your turn—hit me with a roast or tell me your favorite \"bad\" coffee joke!\n",
      "\n",
      "--------------------------------------------------------------------------------\n",
      "\u001b[33mcathy\u001b[0m (to joe):\n",
      "\n",
      "Joe, coming in hot with the decaf punchlines! I respect it. And “Jow-mentum” better be your next merch line—I’d buy the mug.\n",
      "\n",
      "Alright, my favorite terrible coffee joke? Here goes:  \n",
      "Why do baristas never gossip?  \n",
      "Because they don’t want to espresso too much!\n",
      "\n",
      "Or—how about a roast for you, Mr. Jow-mentum? You know, if you were a cappuccino, you’d be all foam—lookin’ good on the surface, but not quite enough substance to keep me awake during your set!\n",
      "\n",
      "Alright, your move, Joe. Gimme your worst “grounds for divorce” coffee pun—I can take it!\n",
      "\n",
      "--------------------------------------------------------------------------------\n",
      "\u001b[33mjoe\u001b[0m (to cathy):\n",
      "\n",
      "Cathy, that was froth-level shade! And let’s be honest, a comedian’s ego is mostly foam anyway—looks impressive until you poke it, then it’s just hot air and disappointment.\n",
      "\n",
      "Okay, here’s my “grounds for divorce” pun:  \n",
      "My wife left me because I was too obsessed with coffee. She told the court, “Your Honor, every morning he’d just sit there, grinding away—never latte me in on his feelings. It’s clear there were grounds for divorce!”  \n",
      "\n",
      "Meanwhile, I was like, “Judge, I swear I tried to espresso myself! But she said I was way too bitter...”\n",
      "\n",
      "Alright Cathy, you’re up—do you take your coffee like your comedy: dark and a little bit twisted, or with extra sugar to soften the blows?\n",
      "\n",
      "--------------------------------------------------------------------------------\n",
      "\u001b[33mcathy\u001b[0m (to joe):\n",
      "\n",
      "Joe, that pun was so good, Starbucks is gonna start printing it on their cups. “Sir, you’ve been grinding away… never latte me in”—that’s enough caffeine for the whole courthouse!\n",
      "\n",
      "As for me, I take my coffee like my comedy: dark, unpredictable, and liable to keep you awake at 3 a.m., questioning your life choices. Sometimes I’ll add a little sugar if I need people to *like* me, but let’s be real—I’m more of a French roast. If you can’t handle my bitterness, maybe you need to switch to herbal tea—or decaf, like my dating life.\n",
      "\n",
      "Now here’s a question for you, Jow-mentum: Which is more dangerous—my coffee breath or my punchlines? Be honest. If you say both, well, that just means you’re wide awake!\n",
      "\n",
      "--------------------------------------------------------------------------------\n",
      "\u001b[33mjoe\u001b[0m (to cathy):\n",
      "\n",
      "Cathy, honestly, your coffee breath and punchlines could both peel wallpaper, but at least your punchlines won’t have me brushing my teeth three times before lunch! I’ll say your jokes are the real danger—coffee breath fades, but that “French roast” zinger? I’m still tasting the bitterness.\n",
      "\n",
      "And hey, if your dating life is decaf, at least it won’t keep you up all night overthinking… unless, of course, someone texts “What are we?” at 11:59 p.m. That’s a whole other kind of insomnia.\n",
      "\n",
      "But you know what they say: life’s too short for bad coffee and weak punchlines. Luckily, you seem to be serving both strong. And if anyone complains, just tell ‘em you’re an acquired taste—like black coffee served at a DMV.\n",
      "\n",
      "Alright, Cathy, before we both hit maximum caffeine levels and start vibrating—do you have a favorite go-to joke to leave the audience buzzing? Or should I take us out with one of mine?\n",
      "\n",
      "--------------------------------------------------------------------------------\n",
      "\u001b[33mcathy\u001b[0m (to joe):\n",
      "\n",
      "Joe, I love that—“an acquired taste, like black coffee at the DMV.” Trust me, people leave my shows feeling just as confused and jittery as they do after renewing their license.\n",
      "\n",
      "Alright, let me hit you with a classic closer:  \n",
      "Why did the scarecrow win a comedy award?  \n",
      "Because he was outstanding in his field—but only because he learned to keep his jokes corny!\n",
      "\n",
      "And for the record, my dating life isn’t just decaf—it’s like instant coffee. Quick, disappointing, and always leaves you wondering, “Did I really just settle for this?”\n",
      "\n",
      "But Joe, I gotta say—you brew up some solid banter. If you wanna leave us with your best, the mic’s yours. Otherwise, I think we’ve maxed out our punchcard and our nerves. I gotta go.\n",
      "\n",
      "--------------------------------------------------------------------------------\n",
      "\u001b[31m\n",
      ">>>>>>>> TERMINATING RUN (aad2cb82-928b-4faf-a431-cb2be649122f): Termination message condition on agent 'joe' met\u001b[0m\n"
     ]
    }
   ],
   "source": [
    "chat_result = joe.initiate_chat(\n",
    "    recipient=cathy,\n",
    "    message=\"I'm Joe. Cathy, let's keep the jokes rolling.\"\n",
    ")"
   ]
  },
  {
   "cell_type": "code",
   "execution_count": 27,
   "id": "817d0a7c",
   "metadata": {},
   "outputs": [
    {
     "name": "stdout",
     "output_type": "stream",
     "text": [
      "\u001b[33mcathy\u001b[0m (to joe):\n",
      "\n",
      "What's last joke we talked about?\n",
      "\n",
      "--------------------------------------------------------------------------------\n",
      "\u001b[33mjoe\u001b[0m (to cathy):\n",
      "\n",
      "The last joke we talked about was your classic closer:\n",
      "\n",
      "Why did the scarecrow win a comedy award?  \n",
      "Because he was outstanding in his field—but only because he learned to keep his jokes corny!\n",
      "\n",
      "Solid closer, Cathy—truly outstanding in the field of punchlines. And instant coffee as a love life? You gotta upgrade that to at least French press, or maybe just press ignore on those instant dates!\n",
      "\n",
      "And with that, I think we’ve officially reached maximum caffeine levels. I gotta go.\n",
      "\n",
      "--------------------------------------------------------------------------------\n",
      "\u001b[31m\n",
      ">>>>>>>> TERMINATING RUN (8337eb0c-8bff-406f-a6e2-bf0750dfc334): Termination message condition on agent 'cathy' met\u001b[0m\n"
     ]
    }
   ],
   "source": [
    "cathy.send(message=\"What's last joke we talked about?\", recipient=joe)\n"
   ]
  },
  {
   "cell_type": "code",
   "execution_count": null,
   "id": "f618b91d",
   "metadata": {},
   "outputs": [],
   "source": []
  }
 ],
 "metadata": {
  "kernelspec": {
   "display_name": "aiml311",
   "language": "python",
   "name": "python3"
  },
  "language_info": {
   "codemirror_mode": {
    "name": "ipython",
    "version": 3
   },
   "file_extension": ".py",
   "mimetype": "text/x-python",
   "name": "python",
   "nbconvert_exporter": "python",
   "pygments_lexer": "ipython3",
   "version": "3.11.13"
  }
 },
 "nbformat": 4,
 "nbformat_minor": 5
}
