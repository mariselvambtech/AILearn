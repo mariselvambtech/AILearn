{
 "cells": [
  {
   "cell_type": "code",
   "execution_count": 1,
   "id": "105390b5-6b97-4dda-95d3-61f0615daf29",
   "metadata": {},
   "outputs": [],
   "source": [
    "import json\n",
    "with(open(\"DT_report.json\",\"r\")) as f:\n",
    "    DT_report = json.load(f)"
   ]
  },
  {
   "cell_type": "code",
   "execution_count": 2,
   "id": "96f688d8-d44d-4fe5-8841-497767405369",
   "metadata": {},
   "outputs": [],
   "source": [
    "with(open(\"RF_report.json\",\"r\")) as f:\n",
    "    RF_report = json.load(f)"
   ]
  },
  {
   "cell_type": "code",
   "execution_count": 3,
   "id": "6b251b8c-dc76-4c73-81ea-bd8bd6940fe1",
   "metadata": {},
   "outputs": [],
   "source": [
    "with(open(\"SVC_report.json\",\"r\")) as f:\n",
    "    SVC_report = json.load(f)"
   ]
  },
  {
   "cell_type": "code",
   "execution_count": 4,
   "id": "0369961b-a5dd-467b-9abc-07dbfabf710d",
   "metadata": {},
   "outputs": [
    {
     "data": {
      "text/plain": [
       "dict"
      ]
     },
     "execution_count": 4,
     "metadata": {},
     "output_type": "execute_result"
    }
   ],
   "source": [
    "type(DT_report)"
   ]
  },
  {
   "cell_type": "code",
   "execution_count": 5,
   "id": "4783ed1e-3dea-490f-bc8f-ef9236901592",
   "metadata": {},
   "outputs": [],
   "source": [
    "import pandas as pd"
   ]
  },
  {
   "cell_type": "code",
   "execution_count": 6,
   "id": "e8f0b984-cd20-4ba3-a1b5-b9db0c91a576",
   "metadata": {},
   "outputs": [],
   "source": [
    "DT_df = pd.DataFrame.from_dict(DT_report)"
   ]
  },
  {
   "cell_type": "code",
   "execution_count": 7,
   "id": "204713d8-1c85-4acc-8e15-8b09b4fbd7c6",
   "metadata": {},
   "outputs": [],
   "source": [
    "RF_df = pd.DataFrame.from_dict(RF_report)"
   ]
  },
  {
   "cell_type": "code",
   "execution_count": 8,
   "id": "8a1c92c7-934f-4671-9fda-ad2fc8b112ec",
   "metadata": {},
   "outputs": [],
   "source": [
    "SVC_df = pd.DataFrame.from_dict(SVC_report)"
   ]
  },
  {
   "cell_type": "code",
   "execution_count": 9,
   "id": "454c6ee1-fd68-4a4b-9b78-0f69142f9e51",
   "metadata": {},
   "outputs": [],
   "source": [
    "DT_df_tramsposed = DT_df.transpose()"
   ]
  },
  {
   "cell_type": "code",
   "execution_count": 10,
   "id": "4d9ddee3-8d05-4884-97fd-067a626b9ea6",
   "metadata": {},
   "outputs": [],
   "source": [
    "RF_df_transposed = RF_df.transpose()"
   ]
  },
  {
   "cell_type": "code",
   "execution_count": 11,
   "id": "809b8aa4-0aae-4258-99e9-f75e29bfa910",
   "metadata": {},
   "outputs": [],
   "source": [
    "SVC_df_transposed = SVC_df.transpose()"
   ]
  },
  {
   "cell_type": "code",
   "execution_count": 12,
   "id": "5147c048-baaa-46cf-b0cc-ca697868d6f1",
   "metadata": {},
   "outputs": [
    {
     "data": {
      "text/html": [
       "<div>\n",
       "<style scoped>\n",
       "    .dataframe tbody tr th:only-of-type {\n",
       "        vertical-align: middle;\n",
       "    }\n",
       "\n",
       "    .dataframe tbody tr th {\n",
       "        vertical-align: top;\n",
       "    }\n",
       "\n",
       "    .dataframe thead th {\n",
       "        text-align: right;\n",
       "    }\n",
       "</style>\n",
       "<table border=\"1\" class=\"dataframe\">\n",
       "  <thead>\n",
       "    <tr style=\"text-align: right;\">\n",
       "      <th></th>\n",
       "      <th>precision</th>\n",
       "      <th>recall</th>\n",
       "      <th>f1-score</th>\n",
       "      <th>support</th>\n",
       "    </tr>\n",
       "  </thead>\n",
       "  <tbody>\n",
       "    <tr>\n",
       "      <th>0</th>\n",
       "      <td>0.876712</td>\n",
       "      <td>0.876712</td>\n",
       "      <td>0.876712</td>\n",
       "      <td>73.00</td>\n",
       "    </tr>\n",
       "    <tr>\n",
       "      <th>1</th>\n",
       "      <td>0.808511</td>\n",
       "      <td>0.808511</td>\n",
       "      <td>0.808511</td>\n",
       "      <td>47.00</td>\n",
       "    </tr>\n",
       "    <tr>\n",
       "      <th>accuracy</th>\n",
       "      <td>0.850000</td>\n",
       "      <td>0.850000</td>\n",
       "      <td>0.850000</td>\n",
       "      <td>0.85</td>\n",
       "    </tr>\n",
       "    <tr>\n",
       "      <th>macro avg</th>\n",
       "      <td>0.842611</td>\n",
       "      <td>0.842611</td>\n",
       "      <td>0.842611</td>\n",
       "      <td>120.00</td>\n",
       "    </tr>\n",
       "    <tr>\n",
       "      <th>weighted avg</th>\n",
       "      <td>0.850000</td>\n",
       "      <td>0.850000</td>\n",
       "      <td>0.850000</td>\n",
       "      <td>120.00</td>\n",
       "    </tr>\n",
       "  </tbody>\n",
       "</table>\n",
       "</div>"
      ],
      "text/plain": [
       "              precision    recall  f1-score  support\n",
       "0              0.876712  0.876712  0.876712    73.00\n",
       "1              0.808511  0.808511  0.808511    47.00\n",
       "accuracy       0.850000  0.850000  0.850000     0.85\n",
       "macro avg      0.842611  0.842611  0.842611   120.00\n",
       "weighted avg   0.850000  0.850000  0.850000   120.00"
      ]
     },
     "execution_count": 12,
     "metadata": {},
     "output_type": "execute_result"
    }
   ],
   "source": [
    "DT_df_tramsposed"
   ]
  },
  {
   "cell_type": "code",
   "execution_count": 13,
   "id": "6c4cf2d1-aca7-4fd8-ae9c-a3c364759214",
   "metadata": {},
   "outputs": [],
   "source": [
    "DT_df_tramsposed.columns =  ['DT_'+col  for col in DT_df_tramsposed.columns]\n",
    "RF_df_transposed.columns =  ['RF_'+col  for col in RF_df_transposed.columns]\n",
    "SVC_df_transposed.columns =  ['SVC_'+col  for col in SVC_df_transposed.columns]"
   ]
  },
  {
   "cell_type": "code",
   "execution_count": 14,
   "id": "7862fd5f-c2d0-4038-b471-72bf93aaf1d5",
   "metadata": {},
   "outputs": [
    {
     "data": {
      "text/html": [
       "<div>\n",
       "<style scoped>\n",
       "    .dataframe tbody tr th:only-of-type {\n",
       "        vertical-align: middle;\n",
       "    }\n",
       "\n",
       "    .dataframe tbody tr th {\n",
       "        vertical-align: top;\n",
       "    }\n",
       "\n",
       "    .dataframe thead th {\n",
       "        text-align: right;\n",
       "    }\n",
       "</style>\n",
       "<table border=\"1\" class=\"dataframe\">\n",
       "  <thead>\n",
       "    <tr style=\"text-align: right;\">\n",
       "      <th></th>\n",
       "      <th>DT_precision</th>\n",
       "      <th>DT_recall</th>\n",
       "      <th>DT_f1-score</th>\n",
       "      <th>DT_support</th>\n",
       "      <th>RF_precision</th>\n",
       "      <th>RF_recall</th>\n",
       "      <th>RF_f1-score</th>\n",
       "      <th>RF_support</th>\n",
       "      <th>SVC_precision</th>\n",
       "      <th>SVC_recall</th>\n",
       "      <th>SVC_f1-score</th>\n",
       "      <th>SVC_support</th>\n",
       "    </tr>\n",
       "  </thead>\n",
       "  <tbody>\n",
       "    <tr>\n",
       "      <th>0</th>\n",
       "      <td>0.876712</td>\n",
       "      <td>0.876712</td>\n",
       "      <td>0.876712</td>\n",
       "      <td>73.00</td>\n",
       "      <td>0.951220</td>\n",
       "      <td>0.917647</td>\n",
       "      <td>0.934132</td>\n",
       "      <td>85.00000</td>\n",
       "      <td>0.971014</td>\n",
       "      <td>0.905405</td>\n",
       "      <td>0.937063</td>\n",
       "      <td>74.000</td>\n",
       "    </tr>\n",
       "    <tr>\n",
       "      <th>1</th>\n",
       "      <td>0.808511</td>\n",
       "      <td>0.808511</td>\n",
       "      <td>0.808511</td>\n",
       "      <td>47.00</td>\n",
       "      <td>0.865385</td>\n",
       "      <td>0.918367</td>\n",
       "      <td>0.891089</td>\n",
       "      <td>49.00000</td>\n",
       "      <td>0.862745</td>\n",
       "      <td>0.956522</td>\n",
       "      <td>0.907216</td>\n",
       "      <td>46.000</td>\n",
       "    </tr>\n",
       "    <tr>\n",
       "      <th>accuracy</th>\n",
       "      <td>0.850000</td>\n",
       "      <td>0.850000</td>\n",
       "      <td>0.850000</td>\n",
       "      <td>0.85</td>\n",
       "      <td>0.917910</td>\n",
       "      <td>0.917910</td>\n",
       "      <td>0.917910</td>\n",
       "      <td>0.91791</td>\n",
       "      <td>0.925000</td>\n",
       "      <td>0.925000</td>\n",
       "      <td>0.925000</td>\n",
       "      <td>0.925</td>\n",
       "    </tr>\n",
       "    <tr>\n",
       "      <th>macro avg</th>\n",
       "      <td>0.842611</td>\n",
       "      <td>0.842611</td>\n",
       "      <td>0.842611</td>\n",
       "      <td>120.00</td>\n",
       "      <td>0.908302</td>\n",
       "      <td>0.918007</td>\n",
       "      <td>0.912610</td>\n",
       "      <td>134.00000</td>\n",
       "      <td>0.916880</td>\n",
       "      <td>0.930964</td>\n",
       "      <td>0.922140</td>\n",
       "      <td>120.000</td>\n",
       "    </tr>\n",
       "    <tr>\n",
       "      <th>weighted avg</th>\n",
       "      <td>0.850000</td>\n",
       "      <td>0.850000</td>\n",
       "      <td>0.850000</td>\n",
       "      <td>120.00</td>\n",
       "      <td>0.919832</td>\n",
       "      <td>0.917910</td>\n",
       "      <td>0.918392</td>\n",
       "      <td>134.00000</td>\n",
       "      <td>0.929511</td>\n",
       "      <td>0.925000</td>\n",
       "      <td>0.925622</td>\n",
       "      <td>120.000</td>\n",
       "    </tr>\n",
       "  </tbody>\n",
       "</table>\n",
       "</div>"
      ],
      "text/plain": [
       "              DT_precision  DT_recall  DT_f1-score  DT_support  RF_precision  \\\n",
       "0                 0.876712   0.876712     0.876712       73.00      0.951220   \n",
       "1                 0.808511   0.808511     0.808511       47.00      0.865385   \n",
       "accuracy          0.850000   0.850000     0.850000        0.85      0.917910   \n",
       "macro avg         0.842611   0.842611     0.842611      120.00      0.908302   \n",
       "weighted avg      0.850000   0.850000     0.850000      120.00      0.919832   \n",
       "\n",
       "              RF_recall  RF_f1-score  RF_support  SVC_precision  SVC_recall  \\\n",
       "0              0.917647     0.934132    85.00000       0.971014    0.905405   \n",
       "1              0.918367     0.891089    49.00000       0.862745    0.956522   \n",
       "accuracy       0.917910     0.917910     0.91791       0.925000    0.925000   \n",
       "macro avg      0.918007     0.912610   134.00000       0.916880    0.930964   \n",
       "weighted avg   0.917910     0.918392   134.00000       0.929511    0.925000   \n",
       "\n",
       "              SVC_f1-score  SVC_support  \n",
       "0                 0.937063       74.000  \n",
       "1                 0.907216       46.000  \n",
       "accuracy          0.925000        0.925  \n",
       "macro avg         0.922140      120.000  \n",
       "weighted avg      0.925622      120.000  "
      ]
     },
     "execution_count": 14,
     "metadata": {},
     "output_type": "execute_result"
    }
   ],
   "source": [
    "pd.concat([DT_df_tramsposed,RF_df_transposed,SVC_df_transposed],axis=1)"
   ]
  },
  {
   "cell_type": "code",
   "execution_count": 36,
   "id": "fc607fd2-7d08-4726-a0e3-423d221bae50",
   "metadata": {},
   "outputs": [],
   "source": [
    "\n",
    "# What is the overall performance of this Random Forest model?\n",
    "\n",
    "# check the accuracy. For  DT --> 0.850000  , RF---> 0.917910, SVC --->0.925000"
   ]
  },
  {
   "cell_type": "code",
   "execution_count": 38,
   "id": "daf8e524-78e4-4435-9731-a66e1b0bdada",
   "metadata": {},
   "outputs": [],
   "source": [
    "# How well is the model balancing performance across both classes?\n",
    "\n",
    "#check  macro avg F1score. For DT---> 0.842611 , RF --->0.912610, SVC --->0.922140"
   ]
  },
  {
   "cell_type": "code",
   "execution_count": 41,
   "id": "8db30aad-28c3-4f4d-bf83-fd9f73a0cd05",
   "metadata": {},
   "outputs": [],
   "source": [
    "# How precise is the model when it predicts class 0 (not purchased)?\n",
    "# check the Precision. For DT---> 0.876712, RF--->0.951220, SVC--->0.971014\n",
    "\n",
    "# What percentage of actual class 0 instances are correctly predicted?\n",
    "# check the Recall. for DT---> 0.876712, RF--->0.917647, SVC--->0.905405\n",
    "\n",
    "# How balanced is the model’s performance for class 0?\n",
    "# check the F1-Score. for DT--->0.876712, RF--->0.934132, SVC--->0.937063\n",
    "\n"
   ]
  },
  {
   "cell_type": "code",
   "execution_count": null,
   "id": "9d5429dc-b147-47d5-bc30-e06d29310e0d",
   "metadata": {},
   "outputs": [],
   "source": []
  }
 ],
 "metadata": {
  "kernelspec": {
   "display_name": "Python [conda env:base] *",
   "language": "python",
   "name": "conda-base-py"
  },
  "language_info": {
   "codemirror_mode": {
    "name": "ipython",
    "version": 3
   },
   "file_extension": ".py",
   "mimetype": "text/x-python",
   "name": "python",
   "nbconvert_exporter": "python",
   "pygments_lexer": "ipython3",
   "version": "3.12.7"
  }
 },
 "nbformat": 4,
 "nbformat_minor": 5
}
